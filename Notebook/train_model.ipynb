{
 "cells": [
  {
   "cell_type": "markdown",
   "id": "20e29f52",
   "metadata": {},
   "source": [
    "# Network Anomaly Detection Model Training\n",
    "This notebook demonstrates the full pipeline for training an anomaly detection model on network data. Each step is separated for clarity."
   ]
  },
  {
   "cell_type": "markdown",
   "id": "218b1493",
   "metadata": {},
   "source": [
    "### 1. Import Required Libraries"
   ]
  },
  {
   "cell_type": "code",
   "execution_count": 2,
   "id": "98601524",
   "metadata": {},
   "outputs": [],
   "source": [
    "import sys\n",
    "import os\n",
    "sys.path.append(os.path.abspath(os.path.join(os.getcwd(), '../Model')))\n",
    "sys.path.append(os.path.abspath(os.path.join(os.getcwd(), '..')))"
   ]
  },
  {
   "cell_type": "code",
   "execution_count": 3,
   "id": "e2f96098",
   "metadata": {},
   "outputs": [],
   "source": [
    "import os\n",
    "import torch\n",
    "import numpy as np\n",
    "import random\n",
    "from torch.utils.data import DataLoader, random_split\n",
    "from model import AnomalyDetector\n",
    "from utils.data_loader import NetworkDataset"
   ]
  },
  {
   "cell_type": "markdown",
   "id": "f5a08c17",
   "metadata": {},
   "source": [
    "### 2. Set Seeds for Reproducibility"
   ]
  },
  {
   "cell_type": "code",
   "execution_count": 7,
   "id": "925150cf",
   "metadata": {},
   "outputs": [],
   "source": [
    "seed = 42\n",
    "torch.manual_seed(seed)\n",
    "np.random.seed(seed)\n",
    "random.seed(seed)"
   ]
  },
  {
   "cell_type": "markdown",
   "id": "e42715ee",
   "metadata": {},
   "source": [
    "### 3. Device Configuration (CPU/GPU)"
   ]
  },
  {
   "cell_type": "code",
   "execution_count": 8,
   "id": "6bcf32d5",
   "metadata": {},
   "outputs": [
    {
     "name": "stdout",
     "output_type": "stream",
     "text": [
      "Using device: cpu\n"
     ]
    }
   ],
   "source": [
    "device = torch.device('cuda' if torch.cuda.is_available() else 'cpu')\n",
    "print('Using device:', device)"
   ]
  },
  {
   "cell_type": "markdown",
   "id": "90366732",
   "metadata": {},
   "source": [
    "### 4. Set Hyperparameters and Data Paths"
   ]
  },
  {
   "cell_type": "code",
   "execution_count": 9,
   "id": "a548638f",
   "metadata": {},
   "outputs": [],
   "source": [
    "csv_file = '../Data/processed/NetworkData.csv'  # Adjust path if needed\n",
    "input_dim = 10  # Set according to your data features\n",
    "batch_size = 64\n",
    "epochs = 50\n",
    "lr = 1e-3\n",
    "val_split = 0.2\n",
    "patience = 5  # Early stopping patience"
   ]
  },
  {
   "cell_type": "markdown",
   "id": "fbec2c98",
   "metadata": {},
   "source": [
    "### 5. Load Dataset and Create DataLoaders"
   ]
  },
  {
   "cell_type": "code",
   "execution_count": 10,
   "id": "9e60a2d4",
   "metadata": {},
   "outputs": [
    {
     "name": "stdout",
     "output_type": "stream",
     "text": [
      "Train size: 800000, Validation size: 200000\n"
     ]
    }
   ],
   "source": [
    "dataset = NetworkDataset(csv_file)\n",
    "val_size = int(len(dataset) * val_split)\n",
    "train_size = len(dataset) - val_size\n",
    "train_dataset, val_dataset = random_split(dataset, [train_size, val_size])\n",
    "\n",
    "train_loader = DataLoader(train_dataset, batch_size=batch_size, shuffle=True)\n",
    "val_loader = DataLoader(val_dataset, batch_size=batch_size, shuffle=False)\n",
    "print(f'Train size: {train_size}, Validation size: {val_size}')"
   ]
  },
  {
   "cell_type": "markdown",
   "id": "5f63ff16",
   "metadata": {},
   "source": [
    "### 6. Initialize Model, Loss Function, and Optimizer"
   ]
  },
  {
   "cell_type": "code",
   "execution_count": 11,
   "id": "e13f83fe",
   "metadata": {},
   "outputs": [],
   "source": [
    "model = AnomalyDetector(input_dim).to(device)\n",
    "criterion = torch.nn.MSELoss()\n",
    "optimizer = torch.optim.Adam(model.parameters(), lr=lr)"
   ]
  },
  {
   "cell_type": "markdown",
   "id": "f47dc2eb",
   "metadata": {},
   "source": [
    "### 7. Training Loop with Early Stopping and Checkpointing"
   ]
  },
  {
   "cell_type": "code",
   "execution_count": null,
   "id": "6bd36197",
   "metadata": {},
   "outputs": [
    {
     "name": "stdout",
     "output_type": "stream",
     "text": [
      "Epoch 1, Train Loss: 0.0108, Val Loss: 0.0002\n",
      "Epoch 2, Train Loss: 0.0001, Val Loss: 0.0000\n",
      "Epoch 3, Train Loss: 0.0001, Val Loss: 0.0001\n",
      "Epoch 4, Train Loss: 0.0001, Val Loss: 0.0002\n",
      "Epoch 5, Train Loss: 0.0001, Val Loss: 0.0000\n",
      "Epoch 6, Train Loss: 0.0001, Val Loss: 0.0001\n",
      "Epoch 7, Train Loss: 0.0001, Val Loss: 0.0001\n",
      "Epoch 8, Train Loss: 0.0001, Val Loss: 0.0003\n",
      "Epoch 9, Train Loss: 0.0001, Val Loss: 0.0001\n",
      "Epoch 10, Train Loss: 0.0001, Val Loss: 0.0001\n",
      "Early stopping triggered.\n"
     ]
    }
   ],
   "source": [
    "best_val_loss = float('inf')\n",
    "epochs_no_improve = 0\n",
    "#os.makedirs('saved_models', exist_ok=True)\n",
    "\n",
    "try:\n",
    "    for epoch in range(epochs):\n",
    "        model.train()\n",
    "        train_losses = []\n",
    "        for features, _ in train_loader:\n",
    "            features = features.to(device)\n",
    "            output = model(features)\n",
    "            loss = criterion(output, features)\n",
    "            optimizer.zero_grad()\n",
    "            loss.backward()\n",
    "            optimizer.step()\n",
    "            train_losses.append(loss.item())\n",
    "        avg_train_loss = np.mean(train_losses)\n",
    "\n",
    "        # Validation\n",
    "        model.eval()\n",
    "        val_losses = []\n",
    "        with torch.no_grad():\n",
    "            for features, _ in val_loader:\n",
    "                features = features.to(device)\n",
    "                output = model(features)\n",
    "                loss = criterion(output, features)\n",
    "                val_losses.append(loss.item())\n",
    "        avg_val_loss = np.mean(val_losses)\n",
    "\n",
    "        print(f'Epoch {epoch+1}, Train Loss: {avg_train_loss:.4f}, Val Loss: {avg_val_loss:.4f}')\n",
    "\n",
    "        # Early stopping and checkpointing\n",
    "        if avg_val_loss < best_val_loss:\n",
    "            best_val_loss = avg_val_loss\n",
    "            torch.save(model.state_dict(), '../Model/saved_models/anomaly_detector.pth')\n",
    "            epochs_no_improve = 0\n",
    "        else:\n",
    "            epochs_no_improve += 1\n",
    "            if epochs_no_improve >= patience:\n",
    "                print('Early stopping triggered.')\n",
    "                break\n",
    "except KeyboardInterrupt:\n",
    "    print('Training interrupted. Saving current model...')\n",
    "    torch.save(model.state_dict(), '../Model/saved_models/anomaly_detector_interrupt.pth')"
   ]
  },
  {
   "cell_type": "markdown",
   "id": "a731d519",
   "metadata": {},
   "source": [
    "### 8. Next Steps\n",
    "- Evaluate the model on test data\n",
    "- Analyze reconstruction errors\n",
    "- Use the trained model for anomaly detection on new data"
   ]
  },
  {
   "cell_type": "code",
   "execution_count": 13,
   "id": "3c68e053",
   "metadata": {},
   "outputs": [
    {
     "data": {
      "image/png": "[encoded data removed]",
      "text/plain": [
       "<Figure size 640x480 with 1 Axes>"
      ]
     },
     "metadata": {},
     "output_type": "display_data"
    }
   ],
   "source": [
    "# Get reconstruction errors for each sample in the validation set\n",
    "reconstruction_errors = []\n",
    "model.eval()\n",
    "with torch.no_grad():\n",
    "    for features, _ in val_loader:\n",
    "        features = features.to(device)\n",
    "        output = model(features)\n",
    "        errors = torch.mean((output - features) ** 2, dim=1).cpu().numpy()\n",
    "        reconstruction_errors.extend(errors)\n",
    "\n",
    "import matplotlib.pyplot as plt\n",
    "plt.hist(reconstruction_errors, bins=50)\n",
    "plt.title('Reconstruction Error Distribution (Validation Set)')\n",
    "plt.xlabel('Reconstruction Error')\n",
    "plt.ylabel('Count')\n",
    "plt.show()"
   ]
  },
  {
   "cell_type": "code",
   "execution_count": 14,
   "id": "6b6bf615",
   "metadata": {},
   "outputs": [
    {
     "name": "stdout",
     "output_type": "stream",
     "text": [
      "Validation Accuracy: 0.9455\n"
     ]
    }
   ],
   "source": [
    "# Set threshold (e.g., 95th percentile of validation errors)\n",
    "\n",
    "threshold = np.percentile(reconstruction_errors, 95)\n",
    "\n",
    "# Get predictions on validation set\n",
    "all_labels = []\n",
    "all_preds = []\n",
    "model.eval()\n",
    "with torch.no_grad():\n",
    "    for features, labels in val_loader:\n",
    "        features = features.to(device)\n",
    "        output = model(features)\n",
    "        errors = torch.mean((output - features) ** 2, dim=1).cpu().numpy()\n",
    "        preds = (errors > threshold).astype(int)\n",
    "        all_preds.extend(preds)\n",
    "        all_labels.extend(labels.numpy())\n",
    "\n",
    "from sklearn.metrics import accuracy_score\n",
    "accuracy = accuracy_score(all_labels, all_preds)\n",
    "print(f\"Validation Accuracy: {accuracy:.4f}\")"
   ]
  },
  {
   "cell_type": "markdown",
   "id": "8a610167",
   "metadata": {},
   "source": [
    "### Saving the Model"
   ]
  },
  {
   "cell_type": "code",
   "execution_count": 15,
   "id": "adc3bb67",
   "metadata": {},
   "outputs": [],
   "source": [
    "torch.save(model.state_dict(), '../Model/saved_models/Trained_Model.pth')"
   ]
  },
  {
   "cell_type": "code",
   "execution_count": null,
   "id": "116f190c",
   "metadata": {},
   "outputs": [],
   "source": [
    "torch.save(model.state_dict(), '../Model/saved_models/Trained_Model.pkl')"
   ]
  },
  {
   "cell_type": "code",
   "execution_count": 17,
   "id": "f6eac216",
   "metadata": {},
   "outputs": [],
   "source": [
    "torch.save(model.state_dict(), '../Model/saved_models/Trained_Model.h')"
   ]
  },
  {
   "cell_type": "code",
   "execution_count": null,
   "id": "98187491",
   "metadata": {},
   "outputs": [],
   "source": []
  }
 ],
 "metadata": {
  "kernelspec": {
   "display_name": "venv",
   "language": "python",
   "name": "python3"
  },
  "language_info": {
   "codemirror_mode": {
    "name": "ipython",
    "version": 3
   },
   "file_extension": ".py",
   "mimetype": "text/x-python",
   "name": "python",
   "nbconvert_exporter": "python",
   "pygments_lexer": "ipython3",
   "version": "3.12.10"
  }
 },
 "nbformat": 4,
 "nbformat_minor": 5
}
